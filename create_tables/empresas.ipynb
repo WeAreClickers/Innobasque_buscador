{
 "cells": [
  {
   "cell_type": "code",
   "execution_count": 3,
   "id": "1e412d4c",
   "metadata": {},
   "outputs": [
    {
     "name": "stdout",
     "output_type": "stream",
     "text": [
      "   id           name  sector_id  employees_range  postcode_id  \\\n",
      "0   1  agente prueba        NaN              NaN          NaN   \n",
      "\n",
      "            updated_at  \n",
      "0  2023-11-09 14:16:17  \n"
     ]
    }
   ],
   "source": [
    "import pandas as pd\n",
    "\n",
    "# Cargar el archivo CSV 'insert_soluciones'\n",
    "df = pd.read_csv('./sql/insert_empresas.csv')\n",
    "df.sort_values(by='id')\n",
    "\n",
    "# Mostrar las primeras filas para verificar la carga\n",
    "print(df.head(1))\n"
   ]
  },
  {
   "cell_type": "code",
   "execution_count": null,
   "id": "0802a9ab",
   "metadata": {},
   "outputs": [],
   "source": [
    "import psycopg2\n",
    "import os\n",
    "\n",
    "DB_NAME = os.getenv('POSTGRES_DB')\n",
    "USER = os.getenv('POSTGRES_USER')\n",
    "PASSWORD = os.getenv('POSTGRES_PASSWORD')\n",
    "\n",
    "# Parámetros de conexión para PostgreSQL (ajusta según tu entorno)\n",
    "db_params = {\n",
    "    'host': 'localhost',\n",
    "    'port': 5432,\n",
    "    'dbname': DB_NAME,      # Cambia por el nombre real de tu base de datos PostgreSQL\n",
    "    'user': USER,            # Cambia por tu usuario de PostgreSQL\n",
    "    'password': PASSWORD      # Cambia por tu contraseña de PostgreSQL\n",
    "}\n",
    "\n",
    "# Cargar datos manejando valores NULL correctamente\n",
    "import numpy as np\n",
    "\n",
    "print(f\"Cargando {len(df)} filas en la tabla empresas_es...\")\n",
    "\n",
    "try:\n",
    "    # Conectar a la base de datos\n",
    "    conn = psycopg2.connect(**db_params)\n",
    "    cursor = conn.cursor()\n",
    "    \n",
    "    # Preparar los datos para insertar\n",
    "    columns = df.columns.tolist()\n",
    "    \n",
    "    # 🔧 SOLUCIÓN: Convertir NaN a None para que PostgreSQL los trate como NULL\n",
    "    df_clean = df.copy()\n",
    "    df_clean = df_clean.replace({np.nan: None})\n",
    "    values = df_clean.values.tolist()\n",
    "    \n",
    "    print(\"Valores NaN convertidos a None para PostgreSQL\")\n",
    "    \n",
    "    # Crear la query de INSERT\n",
    "    placeholders = ', '.join(['%s'] * len(columns))\n",
    "    query = f\"\"\"\n",
    "        INSERT INTO empresas_es ({', '.join(columns)})\n",
    "        VALUES ({placeholders})\n",
    "    \"\"\"\n",
    "    \n",
    "    # Insertar los datos\n",
    "    cursor.executemany(query, values)\n",
    "    \n",
    "    # Confirmar los cambios\n",
    "    conn.commit()\n",
    "    \n",
    "    print(f\"Se insertaron {len(df_clean)} filas correctamente\")\n",
    "    \n",
    "    # Verificar que se insertaron\n",
    "    cursor.execute(\"SELECT COUNT(*) FROM empresas_es\")\n",
    "    count = cursor.fetchone()[0]\n",
    "    print(f\"Total de registros en la tabla: {count}\")\n",
    "    \n",
    "except Exception as e:\n",
    "    print(f\"Error al insertar datos: {e}\")\n",
    "    if 'conn' in locals():\n",
    "        conn.rollback()\n",
    "finally:\n",
    "    if 'conn' in locals():\n",
    "        cursor.close()\n",
    "        conn.close()\n"
   ]
  }
 ],
 "metadata": {
  "kernelspec": {
   "display_name": ".venv",
   "language": "python",
   "name": "python3"
  },
  "language_info": {
   "codemirror_mode": {
    "name": "ipython",
    "version": 3
   },
   "file_extension": ".py",
   "mimetype": "text/x-python",
   "name": "python",
   "nbconvert_exporter": "python",
   "pygments_lexer": "ipython3",
   "version": "3.12.3"
  }
 },
 "nbformat": 4,
 "nbformat_minor": 5
}
